{
 "cells": [
  {
   "cell_type": "markdown",
   "id": "c02c97a2",
   "metadata": {},
   "source": [
    "# Python Foundations For Biginners\n",
    "\n",
    "<center>**Anthony Mipawa (hilanth7@gmail.com)**</center>"
   ]
  },
  {
   "cell_type": "markdown",
   "id": "0602d71a",
   "metadata": {},
   "source": [
    "#  Python Basics\n",
    "\n",
    "Python is a very popular general-purpose programming language.\n",
    "\n",
    "\n",
    "Why is Python such an effective tool in scientific research ?\n",
    "- Interoperability with Other Languages : You can use it in the shell on microtasks, or interactively, or in scripts, or build enterprise software with GUIs.\n",
    "-  “Batteries Included” + Third-Party Modules : Python has built-in libraries and third-party liabraies for nearly everything.\n",
    "- Simplicity & Dynamic Nature : You can run your Python code on any architecture.\n",
    "- Open ethos well-fit to science : Easy to reproduce results with python\n",
    "\n",
    "\n",
    "Why is Python such an effective tool for Data Science and Machine learning research\n",
    "- Very rich scientific computing libraries (numpy, matplotlib, pandas, scipy etc) and machine learning frameworks (Pytorch, Tensorflow, keras, mxnet,  etc)\n",
    "- All DS and ML tasks can be performed with Python :\n",
    " - accessing, collecting, cleaning, analysing, visualising data  modelling, evaluating models, integrating in prod, scaling etc.\n",
    " \n",
    " \n",
    "**Python 2 VS. Python 3**\n",
    "\n",
    "Two major versions of Python in widespread use : Python 2.x\n",
    "and Python 3.x\n",
    "- Some features in Python 3 are not backward compatible\n",
    "with Python 2\n",
    "- Some Python 2 libraries have not been updated to work\n",
    "with Python 3\n",
    "- Bottom-line : there is no wrong choice, as long as all the libraries you need are supported by the version you choose but most of libararies are phasing out python 2.x.\n",
    "- In this workshop : Python3\n",
    "\n",
    "\n",
    "Python is the general purpose programming language that is often applied in scripting roles.\n",
    "\n",
    "**What you can do with python?**\n",
    "\n",
    "\n",
    " - Web development\n",
    " - Machine Learning , Gaming, Robotics\n",
    " - Graphical user Inteface programing\n",
    " - System programming\n",
    " - Internet Scripting\n",
    " - Component Integration\n",
    " - Database programming   e.t.c\n",
    " \n",
    "\n",
    "**Installation**\n",
    "\n",
    "Python is pre-installed on most Unix systems, including linux and Mac OS X\n",
    "\n",
    "On Windows OS\n",
    "Install python form  [python original web page](https://www.python.org/)   <br/>\n",
    "start -> python -> python enteractive interface || open cmd -> type python\n",
    "\n",
    "\n",
    "**IDE** \n",
    "\n",
    "\n",
    "\n",
    "It depends with people preferences [Vscode,Pycharm,IDLE, Jupyter]\n",
    "\n",
    "I prefer , Anaconda is a popular distribution for data science and machine learning.\n",
    "\n",
    "Anaconda installation visit:\n",
    "1. For Windows [here](https://docs.anaconda.com/anaconda/install/windows/)\n",
    "2. For Linux [here](https://docs.anaconda.com/anaconda/install/linux/)\n",
    " \n",
    "\n",
    "\n",
    "# Python Hello world!"
   ]
  },
  {
   "cell_type": "code",
   "execution_count": 1,
   "id": "a4f111dc",
   "metadata": {},
   "outputs": [
    {
     "name": "stdout",
     "output_type": "stream",
     "text": [
      "Hello world!\n"
     ]
    }
   ],
   "source": [
    "print(\"Hello world!\")"
   ]
  },
  {
   "cell_type": "markdown",
   "id": "2968fcc4",
   "metadata": {},
   "source": [
    "# Python Variables and Data types"
   ]
  },
  {
   "cell_type": "code",
   "execution_count": 2,
   "id": "ceb74269",
   "metadata": {},
   "outputs": [],
   "source": [
    "# variable and assignment\n",
    "x = 2021\n",
    "\n",
    "y = \"Pycon Tanzania\"\n",
    "z = 3.14\n",
    "c = False"
   ]
  },
  {
   "cell_type": "code",
   "execution_count": 3,
   "id": "479a6bc6",
   "metadata": {},
   "outputs": [
    {
     "data": {
      "text/plain": [
       "int"
      ]
     },
     "execution_count": 3,
     "metadata": {},
     "output_type": "execute_result"
    }
   ],
   "source": [
    "# Varibale type\n",
    "\n",
    "type(x)"
   ]
  },
  {
   "cell_type": "code",
   "execution_count": 126,
   "id": "254cc1e8",
   "metadata": {},
   "outputs": [
    {
     "data": {
      "text/plain": [
       "2021.0"
      ]
     },
     "execution_count": 126,
     "metadata": {},
     "output_type": "execute_result"
    }
   ],
   "source": [
    "# type casting: converting the integer to a float type\n",
    "\n",
    "float(x)"
   ]
  },
  {
   "cell_type": "code",
   "execution_count": 127,
   "id": "4adcff08",
   "metadata": {},
   "outputs": [],
   "source": [
    "# sigle line assignment\n",
    "\n",
    "language , year = \"Python\", 2021"
   ]
  },
  {
   "cell_type": "markdown",
   "id": "9e1fe9de",
   "metadata": {},
   "source": [
    "# Python Inputs and Outputs Statements"
   ]
  },
  {
   "cell_type": "code",
   "execution_count": 6,
   "id": "2d3476de",
   "metadata": {},
   "outputs": [
    {
     "name": "stdout",
     "output_type": "stream",
     "text": [
      "Please enter your age: 67\n"
     ]
    }
   ],
   "source": [
    "# request for input\n",
    "\n",
    "age =  int(input(\"Please enter your age: \"))"
   ]
  },
  {
   "cell_type": "code",
   "execution_count": 9,
   "id": "a8a768df",
   "metadata": {},
   "outputs": [
    {
     "name": "stdout",
     "output_type": "stream",
     "text": [
      "Please enter your name: gshf\n"
     ]
    }
   ],
   "source": [
    "name =  str(input(\"Please enter your name: \"))"
   ]
  },
  {
   "cell_type": "code",
   "execution_count": 10,
   "id": "83e2f842",
   "metadata": {},
   "outputs": [
    {
     "name": "stdout",
     "output_type": "stream",
     "text": [
      "Your age is:  67\n"
     ]
    }
   ],
   "source": [
    "# output user inputs\n",
    "\n",
    "print(\"Your age is: \" , age)"
   ]
  },
  {
   "cell_type": "code",
   "execution_count": 11,
   "id": "d04c2f6e",
   "metadata": {},
   "outputs": [
    {
     "name": "stdout",
     "output_type": "stream",
     "text": [
      "Your name is gshf and age is 67 years old\n"
     ]
    }
   ],
   "source": [
    "# formating the outputs\n",
    "\n",
    "print(f\"Your name is {name} and age is {age} years old\") \n",
    "# print(\"Your name is {} and age is {} years old\".format(name,age))\n",
    "# print(\"Your name is %s and age is %d years old\" %(name,age))\n"
   ]
  },
  {
   "cell_type": "markdown",
   "id": "93a0bccf",
   "metadata": {},
   "source": [
    "# Python Operators\n",
    "\n",
    "- Arithmetic Operator\n",
    "   - Addition(+)\n",
    "   - Subtraction(-)\n",
    "   - Multiplication(*)\n",
    "   - Division(/)\n",
    "   - Modulus(%)\n",
    "   - Floor Division Operator(//)\n",
    "   - Exponential Operator(**)\n",
    "   \n",
    "   \n",
    "- Comparison operator\n",
    "    - Greater than(>)\n",
    "    - Greater than or equal to(>=)\n",
    "    - Less than(<)\n",
    "    - Less than or Equal to(<=)\n",
    "   \n",
    "   \n",
    "\n",
    "- Equality Operator\n",
    "    - Equal  To(==)\n",
    "    - Not Equal To(!=)\n",
    "    \n",
    "\n",
    "- Logical Operator etc\n",
    "    - And\n",
    "    - Or\n",
    "    - Not"
   ]
  },
  {
   "cell_type": "code",
   "execution_count": 12,
   "id": "562bd80d",
   "metadata": {},
   "outputs": [
    {
     "name": "stdout",
     "output_type": "stream",
     "text": [
      "33\n"
     ]
    }
   ],
   "source": [
    "# Arithmetic Operator\n",
    "\n",
    "a,b = 23,10\n",
    "\n",
    "total = 23 + 10\n",
    "\n",
    "print(total)"
   ]
  },
  {
   "cell_type": "code",
   "execution_count": 13,
   "id": "83710f3e",
   "metadata": {},
   "outputs": [
    {
     "name": "stdout",
     "output_type": "stream",
     "text": [
      "True\n"
     ]
    }
   ],
   "source": [
    "# Comparison Operator\n",
    "\n",
    "a,b = 23,10\n",
    "\n",
    "print(a > b)"
   ]
  },
  {
   "cell_type": "code",
   "execution_count": 14,
   "id": "5fc499c8",
   "metadata": {},
   "outputs": [
    {
     "name": "stdout",
     "output_type": "stream",
     "text": [
      "False\n"
     ]
    }
   ],
   "source": [
    "# Equality Operator\n",
    "\n",
    "a,b = 23,10\n",
    "\n",
    "print(a == b)"
   ]
  },
  {
   "cell_type": "code",
   "execution_count": 15,
   "id": "e7b5fb45",
   "metadata": {},
   "outputs": [
    {
     "name": "stdout",
     "output_type": "stream",
     "text": [
      "True\n"
     ]
    }
   ],
   "source": [
    "# Logical Operator\n",
    "\n",
    "print(True and True)"
   ]
  },
  {
   "cell_type": "markdown",
   "id": "d3c0cc3a",
   "metadata": {},
   "source": [
    "# Python Conditional Statement\n",
    "\n",
    "- if Statement\n",
    "- if-else Statement\n",
    "- if elif else Statement\n",
    "\n",
    "\n",
    "**Python_if_statement** | **Python_if_else_statement** | **Python_if_elif_else_statement**\n",
    "- | - | -\n",
    "![Python_if_statement.jpg](Python_if_statement.jpg) | ![Python_if_else_statement.jpg](img/Python_if_else_statement.jpg) | ![Python_if_elif_else_statement.jpg](img/Python_if_elif_else_statement.jpg)"
   ]
  },
  {
   "cell_type": "code",
   "execution_count": 17,
   "id": "56eca3af",
   "metadata": {},
   "outputs": [],
   "source": [
    "# if statement\n",
    "\n",
    "a,b = 23 , 56\n",
    "if a>b:\n",
    "    print(\"b is greater than a\")"
   ]
  },
  {
   "cell_type": "code",
   "execution_count": 19,
   "id": "4eb8491f",
   "metadata": {},
   "outputs": [
    {
     "name": "stdout",
     "output_type": "stream",
     "text": [
      "a is greater than b\n"
     ]
    }
   ],
   "source": [
    "# if else statement\n",
    "\n",
    "a,b = 56 , 23\n",
    "\n",
    "if b>a:\n",
    "    print(\"b is greater than a\")\n",
    "else:\n",
    "    print(\"a is greater than b\")"
   ]
  },
  {
   "cell_type": "code",
   "execution_count": 138,
   "id": "22bff8e0",
   "metadata": {},
   "outputs": [
    {
     "name": "stdout",
     "output_type": "stream",
     "text": [
      "b is greater than a\n"
     ]
    }
   ],
   "source": [
    "# if elif else statement\n",
    "\n",
    "a,b = 23 , 56\n",
    "\n",
    "if b>a:\n",
    "    print(\"b is greater than a\")\n",
    "elif b<a:\n",
    "    print(\"a is greater than b\")\n",
    "else:\n",
    "    print(\"a is equal to b\")"
   ]
  },
  {
   "attachments": {
    "forLoop.jpg": {
     "image/jpeg": "[encoded data removed]"
    }
   },
   "cell_type": "markdown",
   "id": "fec052a3",
   "metadata": {},
   "source": [
    "# Python Loops or  Iterative statements\n",
    "\n",
    "\n",
    "In python, If we want to execute a group of statements multiple times then we are going to use Iterative statements.\n",
    "\n",
    "Python supports two types of iterative statements:\n",
    "\n",
    "    - for loop: in Python is used to iterate over a sequence (list, tuple, string) or other iterable objects\n",
    "    - while loop: in Python is used to iterate over a block of code as long as the test expression (condition) is true\n",
    "\n",
    "Python iteration work with two function:\n",
    "    \n",
    "    - range()\n",
    "    - enumerate()\n",
    "\n",
    "\n",
    "**For Loop** \n",
    "\n",
    "![forLoop.jpg](attachment:forLoop.jpg) "
   ]
  },
  {
   "cell_type": "code",
   "execution_count": 20,
   "id": "df0c7389",
   "metadata": {},
   "outputs": [
    {
     "name": "stdout",
     "output_type": "stream",
     "text": [
      "0\n",
      "1\n",
      "2\n",
      "3\n",
      "4\n"
     ]
    }
   ],
   "source": [
    "# for loop\n",
    "\n",
    "for i in range(5):\n",
    "    print(i)"
   ]
  },
  {
   "cell_type": "code",
   "execution_count": 21,
   "id": "e9d65470",
   "metadata": {},
   "outputs": [
    {
     "name": "stdout",
     "output_type": "stream",
     "text": [
      "1\n",
      "3\n",
      "5\n",
      "7\n",
      "9\n"
     ]
    }
   ],
   "source": [
    "# for loop\n",
    " \n",
    "    \n",
    "for i in range(1,10,2):\n",
    "    print(i)"
   ]
  },
  {
   "cell_type": "code",
   "execution_count": 22,
   "id": "71a5eca8",
   "metadata": {
    "scrolled": true
   },
   "outputs": [
    {
     "name": "stdout",
     "output_type": "stream",
     "text": [
      "(0, 'Python')\n",
      "(1, 'Java')\n",
      "(2, 'JavaScript')\n"
     ]
    }
   ],
   "source": [
    "# enumerate function in loops\n",
    "languages = [\"Python\",\"Java\",\"JavaScript\"]\n",
    "\n",
    "# printing the tuples in object directly\n",
    "for l in enumerate(languages):\n",
    "    print (l)"
   ]
  },
  {
   "cell_type": "code",
   "execution_count": 142,
   "id": "e4f05922",
   "metadata": {},
   "outputs": [
    {
     "name": "stdout",
     "output_type": "stream",
     "text": [
      "Index:0 Value 1\n",
      "Index:1 Value 4\n",
      "Index:2 Value 7\n"
     ]
    }
   ],
   "source": [
    "# Both range and enumerate\n",
    "\n",
    "for i, val in enumerate(range(1,10,3)):\n",
    "    print(\"Index:{0} Value {1}\".format(i, val))"
   ]
  },
  {
   "attachments": {
    "whileLoop.jpg": {
     "image/jpeg": "[encoded data removed]"
    }
   },
   "cell_type": "markdown",
   "id": "29ff9493",
   "metadata": {},
   "source": [
    "**While Loop**\n",
    "\n",
    "![whileLoop.jpg](attachment:whileLoop.jpg)"
   ]
  },
  {
   "cell_type": "code",
   "execution_count": 25,
   "id": "b06da8a2",
   "metadata": {},
   "outputs": [],
   "source": [
    "# while loop\n",
    "\n",
    "i = 5\n",
    "while i < 5:\n",
    "    print(i)\n",
    "    i = i+1"
   ]
  },
  {
   "cell_type": "markdown",
   "id": "696985b6",
   "metadata": {},
   "source": [
    "# Python Data Structure\n",
    "\n",
    "- **List** is nothing but a consecutive collection of related items/words.\n",
    "- **Tuple** is the same as List Datatype except that it is Immutable, that means once you create any tuple, you cannot make any changes to that.\n",
    "- **Set** is an unordered collection element where each element is unique.\n",
    "- **Dictionary** is unlike other datatypes in python, dictionary datatype is used to store key-value pairs to make it more optimized."
   ]
  },
  {
   "cell_type": "code",
   "execution_count": 144,
   "id": "1b79fe15",
   "metadata": {},
   "outputs": [
    {
     "name": "stdout",
     "output_type": "stream",
     "text": [
      "['python', 'C++', 'R', 'Java script', 'Ruby', 'C', 'PHP']\n"
     ]
    }
   ],
   "source": [
    "# Lists\n",
    "\n",
    "my_list = [\"python\",\"C++\",\"R\",\"Java script\",\"Ruby\",\"C\", \"PHP\"]\n",
    "print(my_list)"
   ]
  },
  {
   "cell_type": "markdown",
   "id": "17509362",
   "metadata": {},
   "source": [
    "The Properties of List Datatypes are:\n",
    "\n",
    "- Order is preserved\n",
    "- Duplicate values are allowed\n",
    "- Should be mentioned in square brackets\n",
    "- Heterogeneous objects are allowed\n",
    "- Indexing concept is applicable\n",
    "- Slicing concept is applicable in List data type\n",
    "- We can Add and Remove the elements from the List\n",
    "- And List is Mutable"
   ]
  },
  {
   "cell_type": "code",
   "execution_count": 145,
   "id": "fb475456",
   "metadata": {},
   "outputs": [
    {
     "data": {
      "text/plain": [
       "'Ruby'"
      ]
     },
     "execution_count": 145,
     "metadata": {},
     "output_type": "execute_result"
    }
   ],
   "source": [
    "# accessing list items\n",
    "\n",
    "my_list[4] # my_list[-1]"
   ]
  },
  {
   "cell_type": "code",
   "execution_count": 146,
   "id": "9f11e7f1",
   "metadata": {},
   "outputs": [
    {
     "data": {
      "text/plain": [
       "['R', 'Java script', 'Ruby']"
      ]
     },
     "execution_count": 146,
     "metadata": {},
     "output_type": "execute_result"
    }
   ],
   "source": [
    "# list slicing\n",
    "\n",
    "my_list[2:5] #my_list[2:-1]"
   ]
  },
  {
   "cell_type": "code",
   "execution_count": 147,
   "id": "79aa02a4",
   "metadata": {},
   "outputs": [],
   "source": [
    "# add item \n",
    "my_list.append(\"Java\") #doesn't allow two argument"
   ]
  },
  {
   "cell_type": "code",
   "execution_count": 148,
   "id": "a77bc620",
   "metadata": {},
   "outputs": [],
   "source": [
    "# remove item\n",
    "\n",
    "my_list.remove(\"Java\")"
   ]
  },
  {
   "cell_type": "code",
   "execution_count": 149,
   "id": "3bb77348",
   "metadata": {},
   "outputs": [
    {
     "data": {
      "text/plain": [
       "'PHP'"
      ]
     },
     "execution_count": 149,
     "metadata": {},
     "output_type": "execute_result"
    }
   ],
   "source": [
    "# remove item at the end of list\n",
    "\n",
    "my_list.pop()"
   ]
  },
  {
   "cell_type": "code",
   "execution_count": 150,
   "id": "cb64ed7a",
   "metadata": {},
   "outputs": [
    {
     "name": "stdout",
     "output_type": "stream",
     "text": [
      "['python', 'C++', 'R', 'Java script', 'Ruby', 'C', 1, 9, 25, 49, 81]\n"
     ]
    }
   ],
   "source": [
    "# join two list\n",
    "\n",
    "new_list = [x**2 for x in range(1,10,2)]\n",
    "\n",
    "Joined_list = my_list + new_list\n",
    "\n",
    "print(Joined_list)"
   ]
  },
  {
   "cell_type": "markdown",
   "id": "ca003956",
   "metadata": {},
   "source": [
    "**Other lists merhods**\n",
    "\n",
    "    - reverse()\n",
    "    - insert()\n",
    "    - in\n",
    "    - count()\n",
    "    - sort()\n",
    "    - clear()"
   ]
  },
  {
   "cell_type": "code",
   "execution_count": null,
   "id": "e408c8f1",
   "metadata": {},
   "outputs": [],
   "source": []
  },
  {
   "cell_type": "code",
   "execution_count": 151,
   "id": "a4c7eced",
   "metadata": {},
   "outputs": [
    {
     "name": "stdout",
     "output_type": "stream",
     "text": [
      "('kaggle', 'zindi', 'driven data', 'machine Hack', 3, 4, 5)\n"
     ]
    }
   ],
   "source": [
    "# Tuple\n",
    "\n",
    "my_tuple = (\"kaggle\",\"zindi\",\"driven data\",\"machine Hack\",3,4,5)\n",
    "print(my_tuple)"
   ]
  },
  {
   "cell_type": "markdown",
   "id": "626bd597",
   "metadata": {},
   "source": [
    "The properties of Tuple are:\n",
    "\n",
    "- Order is preserved\n",
    "- Duplicate values are allowed\n",
    "- Should be mentioned in parentheses()\n",
    "- Heterogeneous objects are allowed\n",
    "- Indexing concept is applicable\n",
    "- Slicing concept is applicable in Tuple data type\n",
    "- We cannot Add and Remove the elements from the List\n",
    "- And Tuple is Immutable"
   ]
  },
  {
   "cell_type": "code",
   "execution_count": 152,
   "id": "f19c23a9",
   "metadata": {},
   "outputs": [
    {
     "name": "stdout",
     "output_type": "stream",
     "text": [
      "('python', 'C++', 'R', 'Java script', 'Ruby', 'C', 1, 9, 25, 49, 81)\n"
     ]
    }
   ],
   "source": [
    "# creating tuple with function\n",
    "new_tuple = tuple(Joined_list)\n",
    "print(new_tuple)"
   ]
  },
  {
   "cell_type": "code",
   "execution_count": 153,
   "id": "c1db8053",
   "metadata": {},
   "outputs": [
    {
     "ename": "TypeError",
     "evalue": "'tuple' object does not support item assignment",
     "output_type": "error",
     "traceback": [
      "\u001b[0;31m---------------------------------------------------------------------------\u001b[0m",
      "\u001b[0;31mTypeError\u001b[0m                                 Traceback (most recent call last)",
      "\u001b[0;32m<ipython-input-153-d18a8e954e7c>\u001b[0m in \u001b[0;36m<module>\u001b[0;34m\u001b[0m\n\u001b[1;32m      1\u001b[0m \u001b[0;31m# assignment on tuple\u001b[0m\u001b[0;34m\u001b[0m\u001b[0;34m\u001b[0m\u001b[0;34m\u001b[0m\u001b[0m\n\u001b[1;32m      2\u001b[0m \u001b[0;34m\u001b[0m\u001b[0m\n\u001b[0;32m----> 3\u001b[0;31m \u001b[0mnew_tuple\u001b[0m\u001b[0;34m[\u001b[0m\u001b[0;36m2\u001b[0m\u001b[0;34m]\u001b[0m \u001b[0;34m=\u001b[0m \u001b[0;36m45\u001b[0m\u001b[0;34m\u001b[0m\u001b[0;34m\u001b[0m\u001b[0m\n\u001b[0m",
      "\u001b[0;31mTypeError\u001b[0m: 'tuple' object does not support item assignment"
     ]
    }
   ],
   "source": [
    "# assignment on tuple\n",
    "\n",
    "new_tuple[2] = 45"
   ]
  },
  {
   "cell_type": "code",
   "execution_count": 154,
   "id": "d4c954db",
   "metadata": {},
   "outputs": [],
   "source": [
    "# accessing items is the same as in List"
   ]
  },
  {
   "cell_type": "code",
   "execution_count": 155,
   "id": "4252bfac",
   "metadata": {},
   "outputs": [],
   "source": [
    "# deleting a tuple\n",
    "\n",
    "del new_tuple"
   ]
  },
  {
   "cell_type": "code",
   "execution_count": 156,
   "id": "8ef31399",
   "metadata": {},
   "outputs": [
    {
     "ename": "NameError",
     "evalue": "name 'new_tuple' is not defined",
     "output_type": "error",
     "traceback": [
      "\u001b[0;31m---------------------------------------------------------------------------\u001b[0m",
      "\u001b[0;31mNameError\u001b[0m                                 Traceback (most recent call last)",
      "\u001b[0;32m<ipython-input-156-3cf6c879cee1>\u001b[0m in \u001b[0;36m<module>\u001b[0;34m\u001b[0m\n\u001b[0;32m----> 1\u001b[0;31m \u001b[0mprint\u001b[0m\u001b[0;34m(\u001b[0m\u001b[0mnew_tuple\u001b[0m\u001b[0;34m)\u001b[0m\u001b[0;34m\u001b[0m\u001b[0;34m\u001b[0m\u001b[0m\n\u001b[0m",
      "\u001b[0;31mNameError\u001b[0m: name 'new_tuple' is not defined"
     ]
    }
   ],
   "source": [
    "print(new_tuple)"
   ]
  },
  {
   "cell_type": "markdown",
   "id": "6d766eec",
   "metadata": {},
   "source": [
    "**Other lists merhods**\n",
    "\n",
    "    - len()\n",
    "    - max()\n",
    "    - in\n",
    "    - min()\n",
    "   "
   ]
  },
  {
   "cell_type": "code",
   "execution_count": null,
   "id": "440c83a5",
   "metadata": {},
   "outputs": [],
   "source": []
  },
  {
   "cell_type": "code",
   "execution_count": 157,
   "id": "6c0a808b",
   "metadata": {},
   "outputs": [
    {
     "name": "stdout",
     "output_type": "stream",
     "text": [
      "{'banana', 'cherry', 'apple'}\n"
     ]
    }
   ],
   "source": [
    "# Set \n",
    "\n",
    "my_set = {\"apple\", \"banana\", \"cherry\"}\n",
    "print(my_set)"
   ]
  },
  {
   "cell_type": "markdown",
   "id": "13ceea18",
   "metadata": {},
   "source": [
    "The properties of Set Datatype are :\n",
    "\n",
    "- Order is not preserved\n",
    "- Indexing and slicing concepts are not applicable\n",
    "- Heterogeneous objects are allowed\n",
    "- Mutable\n",
    "- Set is represented by using curly braces with comma separation.\n",
    "- Duplicate not allowed\n",
    "- We can perform union, intersection, and difference operations can be performed on the set elements.\n"
   ]
  },
  {
   "cell_type": "code",
   "execution_count": 158,
   "id": "e1180479",
   "metadata": {},
   "outputs": [],
   "source": [
    "# add items into set\n",
    "my_set.add(\"orange\")"
   ]
  },
  {
   "cell_type": "code",
   "execution_count": 159,
   "id": "cfaafeb0",
   "metadata": {},
   "outputs": [
    {
     "name": "stdout",
     "output_type": "stream",
     "text": [
      "{'banana', 'cherry', 'apple', 'orange'}\n"
     ]
    }
   ],
   "source": [
    "print(my_set)"
   ]
  },
  {
   "cell_type": "code",
   "execution_count": 160,
   "id": "30353515",
   "metadata": {},
   "outputs": [],
   "source": [
    "# remove item from set\n",
    "my_set.remove(\"banana\")"
   ]
  },
  {
   "cell_type": "code",
   "execution_count": null,
   "id": "c5b2a5a6",
   "metadata": {},
   "outputs": [],
   "source": []
  },
  {
   "cell_type": "code",
   "execution_count": 161,
   "id": "c8d1f620",
   "metadata": {},
   "outputs": [],
   "source": [
    "# Dictionary"
   ]
  },
  {
   "cell_type": "markdown",
   "id": "898afe74",
   "metadata": {},
   "source": [
    "The properties of Dictionary Datatype\n",
    "\n",
    "- To represent a group of key values then we will use Dictionary data type\n",
    "- Here we can use duplicate values but we cannot use duplicate keys.\n",
    "- Insertion order is not preserved and the dictionary is based on hashcode of the keys.\n",
    "- Indexing and Slicing concepts are not allowed.\n",
    "- For both the keys and values, Heterogeneous objects are allowed\n",
    "- Dictionary is a mutable Datatype\n",
    "- Dictionary is dynamic in nature\n",
    "- The key-values are represented inside the curly braces separated by a comma.\n",
    "- If we try to use the duplicate keys in the dictionary then the old values will be replaced with the new value."
   ]
  },
  {
   "cell_type": "code",
   "execution_count": 162,
   "id": "b89accac",
   "metadata": {},
   "outputs": [
    {
     "name": "stdout",
     "output_type": "stream",
     "text": [
      "{'name': 'Pycon Tanzania', 'age': 3, 'region': 'Arusha', 'rating': 5}\n"
     ]
    }
   ],
   "source": [
    "# create a dictionary\n",
    "\n",
    "my_dictionary = {\n",
    "    'name':\"Pycon Tanzania\",\n",
    "    'age': 3,\n",
    "    'region':\"Arusha\",\n",
    "    'rating':5\n",
    "}\n",
    "print(my_dictionary)"
   ]
  },
  {
   "cell_type": "code",
   "execution_count": 163,
   "id": "cb280d9b",
   "metadata": {},
   "outputs": [
    {
     "data": {
      "text/plain": [
       "dict_keys(['name', 'age', 'region', 'rating'])"
      ]
     },
     "execution_count": 163,
     "metadata": {},
     "output_type": "execute_result"
    }
   ],
   "source": [
    "#get list keys of a dictionary\n",
    "\n",
    "my_dictionary.keys()"
   ]
  },
  {
   "cell_type": "code",
   "execution_count": 164,
   "id": "bdfb0824",
   "metadata": {},
   "outputs": [
    {
     "data": {
      "text/plain": [
       "dict_values(['Pycon Tanzania', 3, 'Arusha', 5])"
      ]
     },
     "execution_count": 164,
     "metadata": {},
     "output_type": "execute_result"
    }
   ],
   "source": [
    "# get list values of a dictionary\n",
    "\n",
    "my_dictionary.values()"
   ]
  },
  {
   "cell_type": "code",
   "execution_count": 165,
   "id": "f12cb0eb",
   "metadata": {},
   "outputs": [
    {
     "data": {
      "text/plain": [
       "dict_items([('name', 'Pycon Tanzania'), ('age', 3), ('region', 'Arusha'), ('rating', 5)])"
      ]
     },
     "execution_count": 165,
     "metadata": {},
     "output_type": "execute_result"
    }
   ],
   "source": [
    "# get keys and value pair\n",
    "\n",
    "my_dictionary.items()"
   ]
  },
  {
   "cell_type": "code",
   "execution_count": 166,
   "id": "f8aaeb55",
   "metadata": {},
   "outputs": [
    {
     "data": {
      "text/plain": [
       "3"
      ]
     },
     "execution_count": 166,
     "metadata": {},
     "output_type": "execute_result"
    }
   ],
   "source": [
    "# accessing key-values\n",
    "\n",
    "my_dictionary[\"age\"]"
   ]
  },
  {
   "cell_type": "code",
   "execution_count": 167,
   "id": "5e141e7d",
   "metadata": {},
   "outputs": [],
   "source": [
    "# update dictionary\n",
    "\n",
    "my_dictionary[\"category\"]=\"Tech\""
   ]
  },
  {
   "cell_type": "code",
   "execution_count": 168,
   "id": "db1fea17",
   "metadata": {},
   "outputs": [],
   "source": [
    "# deleting ke-value pair\n",
    "\n",
    "del my_dictionary[\"rating\"]"
   ]
  },
  {
   "cell_type": "code",
   "execution_count": 169,
   "id": "e9c3a5b8",
   "metadata": {},
   "outputs": [
    {
     "data": {
      "text/plain": [
       "4"
      ]
     },
     "execution_count": 169,
     "metadata": {},
     "output_type": "execute_result"
    }
   ],
   "source": [
    "# length of dictionary\n",
    "len(my_dictionary)"
   ]
  },
  {
   "cell_type": "markdown",
   "id": "e85dd62c",
   "metadata": {},
   "source": [
    "# Python Functions\n",
    "\n",
    "\n",
    "**Function** is a block of organized, reusable code that is used to perform a single, related action. \n",
    "\n",
    "Functions provide better modularity for your application and a high degree of code reusing.\n",
    "\n",
    "You can define functions to provide the required functionality.\n",
    "Here are simple rules to define a function in Python.\n",
    "\n",
    "    - Function blocks begin with the keyword `def` followed by the function name and parentheses ().\n",
    "\n",
    "    - Any input parameters or arguments should be placed within these parentheses. You can also define parameters inside these parentheses.\n",
    "    \n",
    "    - The code block within every function starts with a colon (:) and is indented.\n",
    "\n",
    "    - The first statement of a function can be an optional statement - the documentation string of the function or docstring.\n",
    "    \n",
    "    - The statement return [expression] exits a function, optionally passing back an expression to the caller. A return statement with no arguments is the same as return None.\n",
    "    \n",
    "    \n",
    "**Types of Python Functions are:**\n",
    "\n",
    "    - built-in functions: - Function that readily comes with python e.g print().\n",
    "    - User-defined functions: - Function that defined by user depending on requirements to perform specific function.\n",
    "    "
   ]
  },
  {
   "cell_type": "code",
   "execution_count": 170,
   "id": "cd763c5d",
   "metadata": {},
   "outputs": [],
   "source": [
    "# Syntax\n",
    "\n",
    "def functionname( parameters ):\n",
    "    \n",
    "    \"\"\"fuction_docstring\"\"\"\n",
    "    \n",
    "    #function suite\n",
    "    \n",
    "    return expression"
   ]
  },
  {
   "cell_type": "code",
   "execution_count": 171,
   "id": "aa6d2f2e",
   "metadata": {},
   "outputs": [],
   "source": [
    "# example of python function\n",
    "\n",
    "def total( num1,num2 ):\n",
    "    \n",
    "    \"\"\"function to perform addition of two numbers\"\"\"\n",
    "    result = num1 + num2\n",
    "    return result"
   ]
  },
  {
   "cell_type": "code",
   "execution_count": 172,
   "id": "94c86e2f",
   "metadata": {},
   "outputs": [
    {
     "data": {
      "text/plain": [
       "56"
      ]
     },
     "execution_count": 172,
     "metadata": {},
     "output_type": "execute_result"
    }
   ],
   "source": [
    "# using python function by passing parameters\n",
    "\n",
    "total(23,33)"
   ]
  },
  {
   "cell_type": "code",
   "execution_count": 173,
   "id": "6643ead2",
   "metadata": {},
   "outputs": [
    {
     "name": "stdout",
     "output_type": "stream",
     "text": [
      "Inside the function local total :  30\n",
      "Outside the function global total :  0\n"
     ]
    }
   ],
   "source": [
    "total = 0   # This is global variable.\n",
    "\n",
    "# Function definition is here\n",
    "def sum( arg1, arg2 ):\n",
    "   # Add both the parameters and return them.\"\n",
    "   total = arg1 + arg2; # Here total is local variable.\n",
    "   print (\"Inside the function local total : \", total)\n",
    "   return total\n",
    "\n",
    "# Now you can call sum function\n",
    "sum( 10, 20 )\n",
    "print (\"Outside the function global total : \", total )"
   ]
  },
  {
   "cell_type": "markdown",
   "id": "425753a3",
   "metadata": {},
   "source": [
    "# Python Modules\n",
    "\n",
    "- What is Python modules?\n",
    "- How to create Python Modules?\n",
    "- How to use Python Modules?"
   ]
  },
  {
   "cell_type": "code",
   "execution_count": 174,
   "id": "af3c4fe3",
   "metadata": {},
   "outputs": [],
   "source": [
    "# using python modules\n",
    "\n",
    "import shapes as sp"
   ]
  },
  {
   "cell_type": "code",
   "execution_count": 175,
   "id": "5478b3d5",
   "metadata": {},
   "outputs": [
    {
     "name": "stdout",
     "output_type": "stream",
     "text": [
      "You choosed to print Right Angled Triangle pattern...\n",
      "Enter No of Rows:8\n",
      "* \n",
      "* * \n",
      "* * * \n",
      "* * * * \n",
      "* * * * * \n",
      "* * * * * * \n",
      "* * * * * * * \n",
      "* * * * * * * * \n"
     ]
    }
   ],
   "source": [
    "sp.traingle()"
   ]
  },
  {
   "cell_type": "code",
   "execution_count": 176,
   "id": "fe7eee6b",
   "metadata": {},
   "outputs": [
    {
     "name": "stdout",
     "output_type": "stream",
     "text": [
      "You choosed to print Right Angled Triangle pattern...\n",
      "Enter No of Rows:8\n",
      "* \n",
      "* * \n",
      "* * * \n",
      "* * * * \n",
      "* * * * * \n",
      "* * * * * * \n",
      "* * * * * * * \n",
      "* * * * * * * * \n"
     ]
    }
   ],
   "source": [
    "sp.traingle()"
   ]
  },
  {
   "cell_type": "markdown",
   "id": "549fdf91",
   "metadata": {},
   "source": [
    "# Python Object Oriented: Classes\n",
    "\n",
    "Python is a **multi-programming language**, as it supports different programming approach, in that the most popular approach is to solve a programming problem by creating an object; this is known as an **Object-oriented programming language**.\n",
    "\n",
    "\n",
    "**The Three Important terms of Oops concept are:**\n",
    "\n",
    "- **Class**: A Class is nothing but a blueprint or template.\n",
    "\n",
    "- **Object** : A Physical existence/An Instance of a class is called an Object.\n",
    "\n",
    "- **Reference Variable** : A variable that is used to refer to an object are called reference variables. The main purpose of the reference variable is to perform required operations on python objects.\n",
    "\n",
    "\n",
    "**Class:**\n",
    "To create objects, we required some **Plan** or **Blueprint**, which is nothing but a class.\n",
    "\n",
    "We can write a class to represent some **properties (attributes) and actions (behavior)** of an object.\n",
    "- Properties can be represented by **variables**\n",
    "- Actions can be represented by **Methods**.\n",
    "- `Hence class contains both variables and methods`.\n",
    "\n",
    "\n",
    "\n",
    "**How to define a Class?**\n",
    "\n",
    "**How to create class objects?**\n",
    "\n",
    "**What are the characteristics of Objects?**\n",
    "\n",
    "\n",
    "\n",
    "The concept of OOP in Python focuses on creating reusable code"
   ]
  },
  {
   "cell_type": "code",
   "execution_count": null,
   "id": "23c01b05",
   "metadata": {},
   "outputs": [],
   "source": [
    "# Syntax of creating python class\n",
    "\n",
    "class className:\n",
    "    ''' documentation string '''\n",
    "    variables:instance variables,static and local variables\n",
    "    methods: instance methods, static methods, class methods"
   ]
  },
  {
   "cell_type": "code",
   "execution_count": 177,
   "id": "14b6ceab",
   "metadata": {},
   "outputs": [],
   "source": [
    "class Pycon:\n",
    "    \"\"\"this class designed by Anthony for demo purpose\"\"\"\n",
    "    #variables\n",
    "    #method\n",
    "\n",
    "# print(Pycon.__doc__)\n",
    "# help(Pycon)"
   ]
  },
  {
   "cell_type": "code",
   "execution_count": null,
   "id": "98970ef5",
   "metadata": {},
   "outputs": [],
   "source": []
  },
  {
   "cell_type": "code",
   "execution_count": 178,
   "id": "a724e2d2",
   "metadata": {},
   "outputs": [],
   "source": [
    "class Pycon:\n",
    "    \"\"\"This class developed by Anthony for demo purpose\"\"\"\n",
    "    \n",
    "    # class attribute\n",
    "    category = \"Tech\"\n",
    "    \n",
    "    # instance attribute\n",
    "    def __init__(self):\n",
    "        # defining a method\n",
    "        self.name = \"Pycon conference\" \n",
    "        self.year = 2021\n",
    "        self.location = \"IAA Arusha\"\n",
    "        \n",
    "    def greeting(self):\n",
    "        print(\"Hello my Name is:\",self.name)\n",
    "        print(\"This year I'm located: \",self.location)"
   ]
  },
  {
   "cell_type": "code",
   "execution_count": 179,
   "id": "7d4dcdc1",
   "metadata": {},
   "outputs": [],
   "source": [
    "# instantiate the Pycon class\n",
    "\n",
    "obj = Pycon()"
   ]
  },
  {
   "cell_type": "code",
   "execution_count": 180,
   "id": "b375e2e1",
   "metadata": {},
   "outputs": [
    {
     "name": "stdout",
     "output_type": "stream",
     "text": [
      "Pycon conference\n"
     ]
    }
   ],
   "source": [
    "# Accessing the properties of an object using reference variable\n",
    "\n",
    "print(obj.name)"
   ]
  },
  {
   "cell_type": "code",
   "execution_count": 181,
   "id": "da6572be",
   "metadata": {},
   "outputs": [
    {
     "name": "stdout",
     "output_type": "stream",
     "text": [
      "Pycon conference is all about Tech\n"
     ]
    }
   ],
   "source": [
    "# access the class attributes\n",
    "\n",
    "print(\"Pycon conference is all about {}\".format(obj.__class__.category))"
   ]
  },
  {
   "cell_type": "code",
   "execution_count": 183,
   "id": "33a70ff1",
   "metadata": {},
   "outputs": [
    {
     "name": "stdout",
     "output_type": "stream",
     "text": [
      "Hello my Name is: Pycon conference\n",
      "This year I'm located:  IAA Arusha\n"
     ]
    }
   ],
   "source": [
    "# calling a method by using reference variable\n",
    "\n",
    "pycon_.greeting()"
   ]
  },
  {
   "cell_type": "markdown",
   "id": "5c140183",
   "metadata": {},
   "source": [
    "###  Example 2"
   ]
  },
  {
   "cell_type": "code",
   "execution_count": 184,
   "id": "0798b5fe",
   "metadata": {},
   "outputs": [],
   "source": [
    "class Person:\n",
    "    \"\"\"This class designed by Anthony for demo purpose\"\"\"\n",
    "    \n",
    "    # class attribute\n",
    "    species = \"Homo sapiens\"\n",
    "    \n",
    "    # instance attributes\n",
    "    def __init__(pp,name,age,height):\n",
    "        pp.name = name\n",
    "        pp.age = age\n",
    "        pp.height = height\n",
    "        \n",
    "     # instance method\n",
    "    def dance(pp):\n",
    "        return \"{} is now dancing\".format(pp.name)\n",
    "    \n",
    "    # another instance method\n",
    "    def talk(pp,speech):\n",
    "        return \"{} said that {}\".format(pp.name, speech)"
   ]
  },
  {
   "cell_type": "code",
   "execution_count": 185,
   "id": "a0900c9a",
   "metadata": {},
   "outputs": [],
   "source": [
    "# instantiate the object\n",
    "\n",
    "objk = Person(\"Havertz\",22,1.9)"
   ]
  },
  {
   "cell_type": "code",
   "execution_count": 186,
   "id": "b433bbec",
   "metadata": {},
   "outputs": [
    {
     "data": {
      "text/plain": [
       "'Havertz is now dancing'"
      ]
     },
     "execution_count": 186,
     "metadata": {},
     "output_type": "execute_result"
    }
   ],
   "source": [
    "# call our instance methods\n",
    "\n",
    "objk.dance()"
   ]
  },
  {
   "cell_type": "code",
   "execution_count": 187,
   "id": "ea522867",
   "metadata": {},
   "outputs": [
    {
     "data": {
      "text/plain": [
       "'Havertz said that Python fundamentals can lift your programming skills'"
      ]
     },
     "execution_count": 187,
     "metadata": {},
     "output_type": "execute_result"
    }
   ],
   "source": [
    "# call our instance methods\n",
    "\n",
    "objk.talk(\"Python fundamentals can lift your programming skills\")"
   ]
  },
  {
   "cell_type": "markdown",
   "id": "9d3c43c7",
   "metadata": {},
   "source": [
    "## Other python Object oriented:\n",
    "\n",
    "    - Inheritance\n",
    "    - Polymorphism\n",
    "    - Encapsulation\n",
    "    \n",
    "***Key Points to Remember about python OOP:***\n",
    "\n",
    "    - Object-Oriented Programming makes the program easy to understand as well as efficient.\n",
    "    - Since the class is sharable, the code can be reused.\n",
    "    - Data is safe and secure with data abstraction.\n",
    "    - Polymorphism allows the same interface for different objects, so programmers can write efficient code.\n"
   ]
  },
  {
   "cell_type": "markdown",
   "id": "8d5cacc3",
   "metadata": {},
   "source": [
    "## References\n",
    "\n",
    "- [chercher tech python-programming](https://chercher.tech/python-programming/introduction-to-python)\n",
    "- [Programiz](https://www.programiz.com/python-programming)\n",
    "- [python4datascience-atc](https://github.com/pythontz/python4datascience-atc)\n",
    "- [PythonDataScienceHandbook](https://github.com/jakevdp/PythonDataScienceHandbook)\n",
    "- [DS-python-data-analysis](https://github.com/jorisvandenbossche/DS-python-data-analysis)"
   ]
  }
 ],
 "metadata": {
  "kernelspec": {
   "display_name": "Python 3",
   "language": "python",
   "name": "python3"
  },
  "language_info": {
   "codemirror_mode": {
    "name": "ipython",
    "version": 3
   },
   "file_extension": ".py",
   "mimetype": "text/x-python",
   "name": "python",
   "nbconvert_exporter": "python",
   "pygments_lexer": "ipython3",
   "version": "3.8.8"
  }
 },
 "nbformat": 4,
 "nbformat_minor": 5
}
